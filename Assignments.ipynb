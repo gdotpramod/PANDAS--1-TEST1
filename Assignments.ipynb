{
 "cells": [
  {
   "cell_type": "code",
   "execution_count": null,
   "metadata": {},
   "outputs": [],
   "source": [
    "1."
   ]
  },
  {
   "cell_type": "code",
   "execution_count": 1,
   "metadata": {},
   "outputs": [
    {
     "name": "stdout",
     "output_type": "stream",
     "text": [
      "   X    Y\n",
      "0  7  1.0\n",
      "1  2  2.0\n",
      "2  0  0.0\n",
      "3  3  1.0\n",
      "4  4  2.0\n",
      "5  2  3.0\n",
      "6  5  4.0\n",
      "7  0  0.0\n",
      "8  3  1.0\n",
      "9  4  2.0\n"
     ]
    }
   ],
   "source": [
    "import pandas as pd\n",
    "import numpy as np\n",
    "\n",
    "# Storing the Given list as Dataframe in to df\n",
    "df = pd.DataFrame({'X': [7, 2, 0, 3, 4, 2, 5, 0, 3, 4]})\n",
    "#cumsum increment every time new value is encountered and stored in X when its true x will become zero again.\n",
    "x = (df['X'] != 0).cumsum() \n",
    "y = x != x.shift()\n",
    "#Which marks every time the difference between rows is non-zero, so that I can use it to spot transitions in data\n",
    "df['Y'] = y.groupby((y != y.shift()).cumsum()).cumsum()\n",
    "#cumsum increment every time new value is encountered and stored in X when its true x will become zero again.\n",
    "x = (df['X'] != 0).cumsum()\n",
    "y = x != x.shift()\n",
    "#Which marks every time the difference between rows is non-zero, so that I can use it to spot transitions in data\n",
    "df['Y'] = y.groupby((y != y.shift()).cumsum()).cumsum()\n",
    "# printing the result data as data frame\n",
    "print(df)"
   ]
  },
  {
   "cell_type": "code",
   "execution_count": null,
   "metadata": {},
   "outputs": [],
   "source": [
    "2."
   ]
  },
  {
   "cell_type": "code",
   "execution_count": 2,
   "metadata": {},
   "outputs": [
    {
     "name": "stdout",
     "output_type": "stream",
     "text": [
      "2015-01-01    0.416061\n",
      "2015-01-02    0.974697\n",
      "2015-01-03    0.123206\n",
      "2015-01-04    0.379172\n",
      "2015-01-05    0.772555\n",
      "2015-01-06    0.070642\n",
      "2015-01-07    0.746324\n",
      "2015-01-08    0.056159\n",
      "2015-01-09    0.665069\n",
      "2015-01-10    0.404981\n",
      "2015-01-11    0.261331\n",
      "2015-01-12    0.722948\n",
      "2015-01-13    0.203923\n",
      "2015-01-14    0.937252\n",
      "2015-01-15    0.719752\n",
      "2015-01-16    0.808888\n",
      "2015-01-17    0.851647\n",
      "2015-01-18    0.054463\n",
      "2015-01-19    0.186351\n",
      "2015-01-20    0.670813\n",
      "2015-01-21    0.588170\n",
      "2015-01-22    0.493564\n",
      "2015-01-23    0.892832\n",
      "2015-01-24    0.621153\n",
      "2015-01-25    0.175659\n",
      "2015-01-26    0.078341\n",
      "2015-01-27    0.786069\n",
      "2015-01-28    0.052208\n",
      "2015-01-29    0.775027\n",
      "2015-01-30    0.406762\n",
      "                ...   \n",
      "2015-12-02    0.603825\n",
      "2015-12-03    0.020264\n",
      "2015-12-04    0.703020\n",
      "2015-12-05    0.413038\n",
      "2015-12-06    0.428032\n",
      "2015-12-07    0.271919\n",
      "2015-12-08    0.960582\n",
      "2015-12-09    0.245483\n",
      "2015-12-10    0.276568\n",
      "2015-12-11    0.026668\n",
      "2015-12-12    0.536302\n",
      "2015-12-13    0.581988\n",
      "2015-12-14    0.609260\n",
      "2015-12-15    0.460622\n",
      "2015-12-16    0.947460\n",
      "2015-12-17    0.888026\n",
      "2015-12-18    0.779565\n",
      "2015-12-19    0.788768\n",
      "2015-12-20    0.395239\n",
      "2015-12-21    0.208286\n",
      "2015-12-22    0.212424\n",
      "2015-12-23    0.084307\n",
      "2015-12-24    0.497205\n",
      "2015-12-25    0.833713\n",
      "2015-12-26    0.934534\n",
      "2015-12-27    0.114923\n",
      "2015-12-28    0.893108\n",
      "2015-12-29    0.403065\n",
      "2015-12-30    0.518645\n",
      "2015-12-31    0.139871\n",
      "Freq: D, Length: 365, dtype: float64\n"
     ]
    }
   ],
   "source": [
    "# cfeating date time index with pandas Date range\n",
    "datetimeindex = pd.date_range(start='2015-01-01', end='2015-12-31')\n",
    "# created series with date time index\n",
    "s = pd.Series(np.random.rand(len(datetimeindex)),index=datetimeindex)\n",
    "print(s)"
   ]
  },
  {
   "cell_type": "code",
   "execution_count": null,
   "metadata": {},
   "outputs": [],
   "source": [
    "3."
   ]
  },
  {
   "cell_type": "code",
   "execution_count": 3,
   "metadata": {},
   "outputs": [
    {
     "data": {
      "text/plain": [
       "23.472803946707185"
      ]
     },
     "execution_count": 3,
     "metadata": {},
     "output_type": "execute_result"
    }
   ],
   "source": [
    "# finding sum of the wednesdays using weekday_ name \n",
    "s[datetimeindex.weekday_name == 'Wednesday'].sum()"
   ]
  },
  {
   "cell_type": "code",
   "execution_count": null,
   "metadata": {},
   "outputs": [],
   "source": [
    "4."
   ]
  },
  {
   "cell_type": "code",
   "execution_count": 4,
   "metadata": {},
   "outputs": [
    {
     "data": {
      "text/plain": [
       "2015-01-31    0.488753\n",
       "2015-02-28    0.482014\n",
       "2015-03-31    0.484361\n",
       "2015-04-30    0.513236\n",
       "2015-05-31    0.495999\n",
       "2015-06-30    0.496567\n",
       "2015-07-31    0.483634\n",
       "2015-08-31    0.543232\n",
       "2015-09-30    0.472661\n",
       "2015-10-31    0.518276\n",
       "2015-11-30    0.425016\n",
       "2015-12-31    0.499455\n",
       "Freq: M, dtype: float64"
      ]
     },
     "execution_count": 4,
     "metadata": {},
     "output_type": "execute_result"
    }
   ],
   "source": [
    "# calculating average using mean by frequency as month\n",
    "s.groupby(pd.Grouper(freq='M')).mean()"
   ]
  },
  {
   "cell_type": "code",
   "execution_count": null,
   "metadata": {},
   "outputs": [],
   "source": [
    "5."
   ]
  },
  {
   "cell_type": "code",
   "execution_count": 5,
   "metadata": {},
   "outputs": [
    {
     "data": {
      "text/plain": [
       "2015-01-31    0.974697\n",
       "2015-05-31    0.982198\n",
       "2015-09-30    0.986122\n",
       "2016-01-31    0.991990\n",
       "dtype: float64"
      ]
     },
     "execution_count": 5,
     "metadata": {},
     "output_type": "execute_result"
    }
   ],
   "source": [
    "# calculating Highest value using max value of the month by max using frequency as quarter with is 4 quarters\n",
    "s.groupby(pd.Grouper(freq='4M')).max()"
   ]
  },
  {
   "cell_type": "code",
   "execution_count": 6,
   "metadata": {},
   "outputs": [
    {
     "data": {
      "text/plain": [
       "2015-01-31   2015-01-02\n",
       "2015-05-31   2015-05-01\n",
       "2015-09-30   2015-07-22\n",
       "2016-01-31   2015-11-09\n",
       "dtype: datetime64[ns]"
      ]
     },
     "execution_count": 6,
     "metadata": {},
     "output_type": "execute_result"
    }
   ],
   "source": [
    "# calculating Highest value date  using idmax value of the month by max using frequency as quarter with is 4 quarters\n",
    "s.groupby(pd.Grouper(freq='4M')).idxmax()"
   ]
  }
 ],
 "metadata": {
  "kernelspec": {
   "display_name": "Python 3",
   "language": "python",
   "name": "python3"
  },
  "language_info": {
   "codemirror_mode": {
    "name": "ipython",
    "version": 3
   },
   "file_extension": ".py",
   "mimetype": "text/x-python",
   "name": "python",
   "nbconvert_exporter": "python",
   "pygments_lexer": "ipython3",
   "version": "3.7.0"
  }
 },
 "nbformat": 4,
 "nbformat_minor": 2
}
