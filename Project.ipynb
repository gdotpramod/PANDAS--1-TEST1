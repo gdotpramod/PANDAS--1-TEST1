{
 "cells": [
  {
   "cell_type": "code",
   "execution_count": 1,
   "metadata": {},
   "outputs": [
    {
     "name": "stdout",
     "output_type": "stream",
     "text": [
      "Enter the input stringBe calm and watch DABANGG\n",
      "\n",
      " Input String is :\tBe calm and watch DABANGG\n",
      "\n",
      "Encryption vaue of given string is :\tVy wu56 u7x GuDw1 XUVUhaa\n",
      "\n",
      "Decryption vaue of given string is :\tBe calm and watch DABANGG\n"
     ]
    }
   ],
   "source": [
    "import numpy as np\n",
    "# defining a class in a better way \n",
    "class Cipher:\n",
    "    L2I = dict(zip(\"ABCDEFGHIJKLMNOPQRSTUVWXYZabcdefghijklmnopqrstuvwxyz0123456789\",range(62)))\n",
    "    I2L = dict(zip(range(62),\"ABCDEFGHIJKLMNOPQRSTUVWXYZabcdefghijklmnopqrstuvwxyz0123456789\"))\n",
    "    # constructor initialization\n",
    "    def __init__(self,instr=\"\"): \n",
    "        self.Instr=str(input(\"Enter the input string\"))\n",
    "    def encrypt(self,key):\n",
    "        L2I = dict(zip(\"ABCDEFGHIJKLMNOPQRSTUVWXYZabcdefghijklmnopqrstuvwxyz0123456789\",range(62)))\n",
    "        I2L = dict(zip(range(62),\"ABCDEFGHIJKLMNOPQRSTUVWXYZabcdefghijklmnopqrstuvwxyz0123456789\"))\n",
    "        ciphertext = \"\"\n",
    "        Instr=self.Instr\n",
    "        for c in Instr:\n",
    "            if c.isalnum(): ciphertext += I2L[ (L2I[c] + key)%62 ]\n",
    "            else: ciphertext += c\n",
    "        return ciphertext\n",
    "    def decrypt(self,Enstr,key):\n",
    "        L2I = dict(zip(\"ABCDEFGHIJKLMNOPQRSTUVWXYZabcdefghijklmnopqrstuvwxyz0123456789\",range(62)))\n",
    "        I2L = dict(zip(range(62),\"ABCDEFGHIJKLMNOPQRSTUVWXYZabcdefghijklmnopqrstuvwxyz0123456789\"))\n",
    "        plaintext2 = \"\"\n",
    "        for c in Enstr:\n",
    "            if c.isalnum(): plaintext2 += I2L[ (L2I[c] - key)%62]\n",
    "            else: plaintext2 += c\n",
    "        return plaintext2\n",
    "\n",
    "k=np.random.randint(1,50,1)\n",
    "key=k[0]\n",
    "c=Cipher()\n",
    "encryptstr=c.encrypt(key)\n",
    "decryptstr=c.decrypt(encryptstr,key)\n",
    "print(\"\\n Input String is :\\t\"+c.Instr)\n",
    "print(\"\\nEncryption vaue of given string is :\\t\"+encryptstr)\n",
    "print(\"\\nDecryption vaue of given string is :\\t\"+decryptstr)"
   ]
  },
  {
   "cell_type": "code",
   "execution_count": null,
   "metadata": {},
   "outputs": [],
   "source": []
  }
 ],
 "metadata": {
  "kernelspec": {
   "display_name": "Python 3",
   "language": "python",
   "name": "python3"
  },
  "language_info": {
   "codemirror_mode": {
    "name": "ipython",
    "version": 3
   },
   "file_extension": ".py",
   "mimetype": "text/x-python",
   "name": "python",
   "nbconvert_exporter": "python",
   "pygments_lexer": "ipython3",
   "version": "3.7.0"
  }
 },
 "nbformat": 4,
 "nbformat_minor": 2
}
